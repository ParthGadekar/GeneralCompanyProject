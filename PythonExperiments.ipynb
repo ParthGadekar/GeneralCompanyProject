{
  "nbformat": 4,
  "nbformat_minor": 0,
  "metadata": {
    "colab": {
      "name": "Experiment2.ipynb",
      "provenance": [],
      "authorship_tag": "ABX9TyP+rFEua2wxyVEvuZ/pg69d",
      "include_colab_link": true
    },
    "kernelspec": {
      "name": "python3",
      "display_name": "Python 3"
    },
    "language_info": {
      "name": "python"
    }
  },
  "cells": [
    {
      "cell_type": "markdown",
      "metadata": {
        "id": "view-in-github",
        "colab_type": "text"
      },
      "source": [
        "<a href=\"https://colab.research.google.com/github/ParthGadekar/GeneralCompanyProject/blob/master/PythonExperiments.ipynb\" target=\"_parent\"><img src=\"https://colab.research.google.com/assets/colab-badge.svg\" alt=\"Open In Colab\"/></a>"
      ]
    },
    {
      "cell_type": "code",
      "metadata": {
        "colab": {
          "base_uri": "https://localhost:8080/"
        },
        "id": "-kE1ULN6uER3",
        "outputId": "71e5f661-af83-4a88-82b7-eec8cea3905d"
      },
      "source": [
        "numStr = input(\"Enter the number: \")\n",
        "num = int(numStr)\n",
        "if num %2 == 0:\n",
        "  print(\"The given number\",num,\"is Even\")\n",
        "else:\n",
        "  print(\"The given number\",num,\"is Odd\")"
      ],
      "execution_count": 1,
      "outputs": [
        {
          "output_type": "stream",
          "text": [
            "Enter the number: 4\n",
            "The given number 4 is Even\n"
          ],
          "name": "stdout"
        }
      ]
    },
    {
      "cell_type": "code",
      "metadata": {
        "colab": {
          "base_uri": "https://localhost:8080/"
        },
        "id": "Yqm440rJ2CDX",
        "outputId": "774015d9-d875-4f46-afde-468e8c08cd27"
      },
      "source": [
        "a= float(input(\"Enter a:\"))\n",
        "b= float(input(\"Enter b:\"))\n",
        "print (\"To add -1\\n To Subtract -2\\n To Multiply -3\\n To divide-4\")\n",
        "n=int(input(\"Enter your choice:\"))\n",
        "if (n>0) and (n<5):\n",
        "  if n==1:\n",
        "    print(a+b)\n",
        "  elif n==2:\n",
        "    print(a-b)\n",
        "  elif n==3:\n",
        "    print(a*b)\n",
        "  else:\n",
        "    print(a/b)\n",
        "else:\n",
        "    print(\"Invalid Choice\")\n"
      ],
      "execution_count": 19,
      "outputs": [
        {
          "output_type": "stream",
          "text": [
            "Enter a:10\n",
            "Enter b:5\n",
            "To add -1\n",
            " To Subtract -2\n",
            " To Multiply -3\n",
            " To divide-4\n",
            "Enter your choice:1\n",
            "15.0\n"
          ],
          "name": "stdout"
        }
      ]
    },
    {
      "cell_type": "code",
      "metadata": {
        "colab": {
          "base_uri": "https://localhost:8080/"
        },
        "id": "DTLG897_3PQf",
        "outputId": "6ee64fbd-019f-473f-ac7f-77084d485b5e"
      },
      "source": [
        "yearS = input(\"Enter the year :\") \n",
        "yr = int(yearS) \n",
        "if (yr % 4) == 0: \n",
        "    if (yr % 100) == 0: \n",
        "        if (yr % 400) == 0: \n",
        "            print(\"Given year is a leap year\", yr) \n",
        "        else: \n",
        "            print(\"Given year is not a leap year\", yr)\n",
        "    else: \n",
        "        print(\"Given year is a leap year\", yr) \n",
        "else: \n",
        "    print(\"Given year is not a leap year\", yr)\n"
      ],
      "execution_count": 6,
      "outputs": [
        {
          "output_type": "stream",
          "text": [
            "Enter the year :1600\n",
            "Given year is a leap year 1600\n"
          ],
          "name": "stdout"
        }
      ]
    },
    {
      "cell_type": "code",
      "metadata": {
        "colab": {
          "base_uri": "https://localhost:8080/"
        },
        "id": "xFSDks9M4BQU",
        "outputId": "71a0701b-abd2-4ce5-b4fb-075a8e38272f"
      },
      "source": [
        "num = int(input(\"Enter a number: \"))\n",
        "factorial = 1\n",
        "# check if the number is negative, positive or zero\n",
        "if num < 0:\n",
        "   print(\"Sorry, factorial does not exist for negative numbers\")\n",
        "elif num == 0:\n",
        "   print(\"The factorial of 0 is 1\")\n",
        "else:\n",
        "   for i in range(1,num + 1):\n",
        "       factorial = factorial*i\n",
        "   print(\"The factorial of\",num,\"is\",factorial)\n"
      ],
      "execution_count": 8,
      "outputs": [
        {
          "output_type": "stream",
          "text": [
            "Enter a number: 6\n",
            "The factorial of 6 is 720\n"
          ],
          "name": "stdout"
        }
      ]
    },
    {
      "cell_type": "code",
      "metadata": {
        "colab": {
          "base_uri": "https://localhost:8080/"
        },
        "id": "Anht6qcq4Ml1",
        "outputId": "7fc60c4d-37ae-4bf8-d209-8197289f050e"
      },
      "source": [
        "x=0\n",
        "y=1\n",
        "n = int(input(\"Enter the terms:\"))\n",
        "print(x,y,end=\" \")\n",
        "for i in range (2,n):\n",
        "  z = x+y\n",
        "  print(z,end=\" \")\n",
        "  x= y\n",
        "  y= z"
      ],
      "execution_count": 28,
      "outputs": [
        {
          "output_type": "stream",
          "text": [
            "Enter the terms:10\n",
            "0 1 1 2 3 5 8 13 21 34 "
          ],
          "name": "stdout"
        }
      ]
    },
    {
      "cell_type": "code",
      "metadata": {
        "colab": {
          "base_uri": "https://localhost:8080/"
        },
        "id": "rdavBvBl-Rfe",
        "outputId": "d94490fb-d6cd-4568-ea8c-df0c13df6ac6"
      },
      "source": [
        "nSt = input(\"Enter a number: \")\n",
        "order = len(nSt)\n",
        "n = int(nSt)\n",
        "sum = 0\n",
        "temp = n\n",
        "while temp > 0:\n",
        "  dig = temp % 10\n",
        "  sum += dig ** order\n",
        "  temp //= 10\n",
        "if n == sum:\n",
        "  print(n,\"The given number is an Armstrong number\")\n",
        "else:\n",
        "  print(n,\"The given number is not an Armstrong number\") "
      ],
      "execution_count": 29,
      "outputs": [
        {
          "output_type": "stream",
          "text": [
            "Enter a number: 153\n",
            "153 The given number is an Armstrong number\n"
          ],
          "name": "stdout"
        }
      ]
    },
    {
      "cell_type": "code",
      "metadata": {
        "colab": {
          "base_uri": "https://localhost:8080/"
        },
        "id": "S4F8HlIS_Oor",
        "outputId": "35ccaf18-e7d8-40e6-f6ba-36ffbf1768a4"
      },
      "source": [
        "a = [1,2,3,4,5,6,7,8,9,10]\n",
        "n = int(input())\n",
        "b = a[n:] + a[:n]\n",
        "print(b)"
      ],
      "execution_count": 30,
      "outputs": [
        {
          "output_type": "stream",
          "text": [
            "6\n",
            "[7, 8, 9, 10, 1, 2, 3, 4, 5, 6]\n"
          ],
          "name": "stdout"
        }
      ]
    },
    {
      "cell_type": "code",
      "metadata": {
        "colab": {
          "base_uri": "https://localhost:8080/"
        },
        "id": "lfGnQvXN_lQ5",
        "outputId": "d28c0514-9eb5-4d9f-ca45-5db730b9046e"
      },
      "source": [
        "from array import*\n",
        "y = array('I',[])\n",
        "a = int(input(\"Enter Limit:\"))\n",
        "for i in range(0,a):\n",
        "  x=int(input(\"ELEMENTS:\"))\n",
        "  y.append(x)\n",
        "  b = 0\n",
        "for i in y:\n",
        "  b+= i\n",
        "print (\"The Sum of n elements is\" ,b)\n"
      ],
      "execution_count": 35,
      "outputs": [
        {
          "output_type": "stream",
          "text": [
            "Enter Limit:3\n",
            "ELEMENTS:4\n",
            "ELEMENTS:5\n",
            "ELEMENTS:6\n",
            "The Sum of n elements is 15\n"
          ],
          "name": "stdout"
        }
      ]
    },
    {
      "cell_type": "code",
      "metadata": {
        "colab": {
          "base_uri": "https://localhost:8080/"
        },
        "id": "2wp-mXqpBZ6H",
        "outputId": "441a1790-a346-40a3-8ec1-40db7f63772c"
      },
      "source": [
        "def swap():\n",
        "  a= int(input(\"enter first number:\"))\n",
        "  b=int(input(\"enter the second number:\"))\n",
        "  print(\"the numbers before swapping\",a,b)\n",
        "  temp=a\n",
        "  a=b\n",
        "  b=temp\n",
        "  print(\"the numbers after swaping\",a,b)\n",
        "swap()\n"
      ],
      "execution_count": 41,
      "outputs": [
        {
          "output_type": "stream",
          "text": [
            "enter first number:4\n",
            "enter the second number:7\n",
            "the numbers before swapping 4 7\n",
            "the numbers after swaping 7 4\n"
          ],
          "name": "stdout"
        }
      ]
    },
    {
      "cell_type": "code",
      "metadata": {
        "colab": {
          "base_uri": "https://localhost:8080/"
        },
        "id": "3bJKdv3LCFWZ",
        "outputId": "d9fd532d-4f0a-48d3-a524-35ac1383b019"
      },
      "source": [
        "import math\n",
        "def distance(x1,y1,x2,y2):\n",
        "  a=x2-x1\n",
        "  b=y2-y1\n",
        "  c=(a**2)+(b**2)\n",
        "  d=math.sqrt(c)\n",
        "  return d\n",
        "a=int(input(\"Enter the no:\"))\n",
        "b=int(input(\"Enter the no:\"))\n",
        "c=int(input(\"Enter the no:\"))\n",
        "d=int(input(\"Enter the no:\"))\n",
        "e=distance(a,b,c,d)\n",
        "print(\"The distance between two points is \",e)\n"
      ],
      "execution_count": 43,
      "outputs": [
        {
          "output_type": "stream",
          "text": [
            "Enter the no:4\n",
            "Enter the no:2\n",
            "Enter the no:6\n",
            "Enter the no:4\n",
            "The distance between two points is  2.8284271247461903\n"
          ],
          "name": "stdout"
        }
      ]
    },
    {
      "cell_type": "code",
      "metadata": {
        "colab": {
          "base_uri": "https://localhost:8080/"
        },
        "id": "YSRwGczrC0bP",
        "outputId": "40447a34-288f-4d6f-964f-572c52e37620"
      },
      "source": [
        "# Program to find HCF or GCD\n",
        "def gcd(a,b):\n",
        "# This function implements the Euclidian algorithm to find H.C.F. of two numbers\n",
        "   while(b):\n",
        "       a, b = b, a % b\n",
        "   return a\n",
        "a=int(input(\"Enter first number:\"))\n",
        "b=int(input(\"Enter second number:\"))\n",
        "print (\"GCD = \",gcd(a,b))\n"
      ],
      "execution_count": 44,
      "outputs": [
        {
          "output_type": "stream",
          "text": [
            "Enter first number:34\n",
            "Enter second number:51\n",
            "GCD =  17\n"
          ],
          "name": "stdout"
        }
      ]
    },
    {
      "cell_type": "code",
      "metadata": {
        "colab": {
          "base_uri": "https://localhost:8080/"
        },
        "id": "i_uf0402DVM-",
        "outputId": "f45dba3b-5473-447f-e623-9c5f11441fbd"
      },
      "source": [
        "n=int(input(\"Enter a number:\"))\n",
        "newton_squareroot= 0.5*((0.5*n)+n/(0.5*n))\n",
        "print (newton_squareroot)\n"
      ],
      "execution_count": 46,
      "outputs": [
        {
          "output_type": "stream",
          "text": [
            "Enter a number:4\n",
            "2.0\n"
          ],
          "name": "stdout"
        }
      ]
    },
    {
      "cell_type": "code",
      "metadata": {
        "colab": {
          "base_uri": "https://localhost:8080/"
        },
        "id": "D4W6QctqDefP",
        "outputId": "3541275a-6618-4ddf-bddb-28b6a9e6684a"
      },
      "source": [
        "n=int(input(\"Enter a number:\"))\n",
        "e=int(input(\"Enter a number:\"))\n",
        "r=n\n",
        "for i in range(1,e):\n",
        "  r=n*r\n",
        "print (\"Exponent\",r)\n",
        "\n"
      ],
      "execution_count": 50,
      "outputs": [
        {
          "output_type": "stream",
          "text": [
            "Enter a number:3\n",
            "Enter a number:2\n",
            "Exponent 9\n"
          ],
          "name": "stdout"
        }
      ]
    },
    {
      "cell_type": "code",
      "metadata": {
        "colab": {
          "base_uri": "https://localhost:8080/"
        },
        "id": "9oMtpTxoEDzv",
        "outputId": "5a6cde2a-374b-4a71-d103-eaa4d21dc99c"
      },
      "source": [
        "l=[]\n",
        "n=int(input(\"Enter the upper limit: \"))\n",
        "for i in range(0,n):\n",
        "  a=int(input(\"Enter the numbers: \"))\n",
        "  l.append(a)\n",
        "print(l)\n",
        "maxno=l[0]\n",
        "for i in range(0,len(l)):\n",
        "  if l[i]>maxno:\n",
        "    maxno=l[i]\n",
        "print(\"The maximum number is %d: \"%maxno)\n"
      ],
      "execution_count": 53,
      "outputs": [
        {
          "output_type": "stream",
          "text": [
            "Enter the upper limit: 3\n",
            "Enter the numbers: 6\n",
            "Enter the numbers: 9\n",
            "Enter the numbers: 90\n",
            "[6, 9, 90]\n",
            "The maximum number is 90: \n"
          ],
          "name": "stdout"
        }
      ]
    },
    {
      "cell_type": "code",
      "metadata": {
        "id": "9vh5bZI9EreR"
      },
      "source": [
        "i=0\n",
        "a=[i for i in range(n)]\n",
        "for i in range(0,n):\n",
        "  a[i]=int(input(\"Enter the array element\"))\n",
        "for i in range(0,n):\n",
        "  print (a[i])\n",
        "key=int(input(\"Enter the key element to be searched\"))\n",
        "for i in range(0,n):\n",
        "  if a[i]==key:\n",
        "    print (\"Key found\")\n",
        "def search(alist,item):\n",
        "  pos=0\n",
        "  found=False\n",
        "  stop=False\n",
        "  while pos<len(alist) and not found and not stop:\n",
        "    if alist[pos]==item:\n",
        "      found=True\n",
        "      print(\"element found in position\",pos)\n",
        "    else:\n",
        "      if alist[pos]>item:\n",
        "        stop=True\n",
        "      else:\n",
        "        pos=pos+1\n",
        "  return found\n",
        "a=[]\n",
        "n=int(input(\"enter upper limit\"))\n",
        "for i in range(0,n):\n",
        "  e=int(input(\"enter the elements\"))\n",
        "  a.append(e)\n",
        "x=int(input(\"enter element to search\"))\n",
        "search(a,x)\n"
      ],
      "execution_count": null,
      "outputs": []
    },
    {
      "cell_type": "code",
      "metadata": {
        "colab": {
          "base_uri": "https://localhost:8080/"
        },
        "id": "77lFCjO2F8c5",
        "outputId": "3cef1f06-fc59-4354-cfc6-396442f4d5b0"
      },
      "source": [
        "def binary_search(a,n,key):\n",
        "  low=0\n",
        "  high=n \n",
        "  while(low<=high):\n",
        "    mid=int((low+high)/2)\n",
        "    if(key==a[mid]):\n",
        "      return mid\n",
        "    elif (key<a[mid]):\n",
        "      high=mid-1\n",
        "    else:\n",
        "      low=mid+1\n",
        "  return -1\n",
        "n=int(input(\"enter the no of element\"))\n",
        "a=[i for i in range(n)]\n",
        "for i in range(0,n):\n",
        "  a[i]=int(input(\"Enter the array element\"))\n",
        "k=int(input(\"Enter the key element to be searched\"))\n",
        "position=binary_search(a,n,k)\n",
        "if(position!=-1):\n",
        "  print (\"present in \",(position))\n",
        "else:\n",
        "  print (\"not present\")\n"
      ],
      "execution_count": 57,
      "outputs": [
        {
          "output_type": "stream",
          "text": [
            "enter the no of element5\n",
            "Enter the array element10\n",
            "Enter the array element20\n",
            "Enter the array element30\n",
            "Enter the array element40\n",
            "Enter the array element50\n",
            "Enter the key element to be searched30\n",
            "present in  2\n"
          ],
          "name": "stdout"
        }
      ]
    },
    {
      "cell_type": "code",
      "metadata": {
        "colab": {
          "base_uri": "https://localhost:8080/"
        },
        "id": "0eO6SgMpGtYl",
        "outputId": "0c01a871-2221-4863-a2c8-dd4a0de9a8f0"
      },
      "source": [
        "# Program for selection sort using list\n",
        "def selectionSort(a): \n",
        "  for i in range(len(a)): \n",
        "    least=i \n",
        "    for k in range(i+1,len(a)): \n",
        "      if a[k]<a[least]: \n",
        "        least=k \n",
        "    temp=a[least] \n",
        "    a[least]=a[i] \n",
        "    a[i]=temp \n",
        "a=[] #define empty list\n",
        "n=int(input(\"Enter the upper limit\"))\n",
        "for i in range (n):\n",
        "  a.append(int(input()))\n",
        "print(\"Original list\",a) \n",
        "selectionSort(a) \n",
        "print(\"Selection Sort:\",a)\n",
        "\n"
      ],
      "execution_count": 70,
      "outputs": [
        {
          "output_type": "stream",
          "text": [
            "Enter the upper limit7\n",
            "50\n",
            "30\n",
            "10\n",
            "20\n",
            "40\n",
            "70\n",
            "60\n",
            "Original list [50, 30, 10, 20, 40, 70, 60]\n",
            "Selection Sort: [10, 20, 30, 40, 50, 60, 70]\n"
          ],
          "name": "stdout"
        }
      ]
    },
    {
      "cell_type": "code",
      "metadata": {
        "colab": {
          "base_uri": "https://localhost:8080/"
        },
        "id": "t1VeXVaLHda-",
        "outputId": "99bae118-360d-4194-dce5-6f64d5c39ee8"
      },
      "source": [
        "# Program for insertion sort using list\n",
        "def insertion(a):\n",
        "  for i in range(1,len(a)):\n",
        "    currentvalue=a[i]\n",
        "    position=i\n",
        "    while position>0 and a[position-1]>currentvalue:\n",
        "      a[position]=a[position-1]\n",
        "      position=position-1\n",
        "    a[position]=currentvalue\n",
        "a=[] #define empty list\n",
        "n=int(input(\"Enter the upper limit\"))\n",
        "for i in range (n):\n",
        "  a.append(int(input()))\n",
        "print (\"Original list\",a) \n",
        "insertion(a)\n",
        "print (\"Insertion list\",a)\n"
      ],
      "execution_count": 72,
      "outputs": [
        {
          "output_type": "stream",
          "text": [
            "Enter the upper limit7\n",
            "10\n",
            "09\n",
            "05\n",
            "04\n",
            "12\n",
            "16\n",
            "18\n",
            "Original list [10, 9, 5, 4, 12, 16, 18]\n",
            "Insertion list [4, 5, 9, 10, 12, 16, 18]\n"
          ],
          "name": "stdout"
        }
      ]
    },
    {
      "cell_type": "code",
      "metadata": {
        "colab": {
          "base_uri": "https://localhost:8080/"
        },
        "id": "-IppwYa4LI7U",
        "outputId": "f778b6eb-5720-452a-c9fe-d95970458113"
      },
      "source": [
        "def mergeSort(a):\n",
        "    print(\"Splitting\",a)\n",
        "    if len(a)>1:\n",
        "        mid = len(a)//2\n",
        "        lefthalf = a[:mid]\n",
        "        righthalf = a[mid:]\n",
        "        mergeSort(lefthalf)\n",
        "        mergeSort(righthalf)\n",
        "        i=0\n",
        "        j=0\n",
        "        k=0\n",
        "        while i < len(lefthalf) and j < len(righthalf):\n",
        "            if lefthalf[i] < righthalf[j]:\n",
        "                a[k]=lefthalf[i]\n",
        "                i=i+1\n",
        "            else:\n",
        "                a[k]=righthalf[j]\n",
        "                j=j+1\n",
        "            k=k+1\n",
        "        while i < len(lefthalf):\n",
        "            a[k]=lefthalf[i]\n",
        "            i=i+1\n",
        "            k=k+1\n",
        "        while j < len(righthalf):\n",
        "            a[k]=righthalf[j]\n",
        "            j=j+1\n",
        "            k=k+1\n",
        "    print(\"Merging  \",a)\n",
        "a = [54,26,93,17,77,31,44,55,20]\n",
        "mergeSort(a)\n",
        "\n"
      ],
      "execution_count": 78,
      "outputs": [
        {
          "output_type": "stream",
          "text": [
            "Splitting [54, 26, 93, 17, 77, 31, 44, 55, 20]\n",
            "Splitting [54, 26, 93, 17]\n",
            "Splitting [54, 26]\n",
            "Splitting [54]\n",
            "Merging   [54]\n",
            "Splitting [26]\n",
            "Merging   [26]\n",
            "Merging   [26, 54]\n",
            "Splitting [93, 17]\n",
            "Splitting [93]\n",
            "Merging   [93]\n",
            "Splitting [17]\n",
            "Merging   [17]\n",
            "Merging   [17, 93]\n",
            "Merging   [17, 26, 54, 93]\n",
            "Splitting [77, 31, 44, 55, 20]\n",
            "Splitting [77, 31]\n",
            "Splitting [77]\n",
            "Merging   [77]\n",
            "Splitting [31]\n",
            "Merging   [31]\n",
            "Merging   [31, 77]\n",
            "Splitting [44, 55, 20]\n",
            "Splitting [44]\n",
            "Merging   [44]\n",
            "Splitting [55, 20]\n",
            "Splitting [55]\n",
            "Merging   [55]\n",
            "Splitting [20]\n",
            "Merging   [20]\n",
            "Merging   [20, 55]\n",
            "Merging   [20, 44, 55]\n",
            "Merging   [20, 31, 44, 55, 77]\n",
            "Merging   [17, 20, 26, 31, 44, 54, 55, 77, 93]\n"
          ],
          "name": "stdout"
        }
      ]
    }
  ]
}